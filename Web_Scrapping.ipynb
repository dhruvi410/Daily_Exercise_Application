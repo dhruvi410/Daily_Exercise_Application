{
  "nbformat": 4,
  "nbformat_minor": 0,
  "metadata": {
    "colab": {
      "name": "Web Scrapping.ipynb",
      "provenance": [],
      "collapsed_sections": [],
      "authorship_tag": "ABX9TyP2Gys0V5E8pOjTE1PrW+wn",
      "include_colab_link": true
    },
    "kernelspec": {
      "name": "python3",
      "display_name": "Python 3"
    },
    "language_info": {
      "name": "python"
    }
  },
  "cells": [
    {
      "cell_type": "markdown",
      "metadata": {
        "id": "view-in-github",
        "colab_type": "text"
      },
      "source": [
        "<a href=\"https://colab.research.google.com/github/dhruvi410/Daily_Exercise_Application/blob/master/Web_Scrapping.ipynb\" target=\"_parent\"><img src=\"https://colab.research.google.com/assets/colab-badge.svg\" alt=\"Open In Colab\"/></a>"
      ]
    },
    {
      "cell_type": "code",
      "metadata": {
        "id": "SqP2Oe4asyv9"
      },
      "source": [
        "# coding=utf-8\n",
        "import requests\n",
        "from bs4 import BeautifulSoup\n",
        "import pandas as pd\n"
      ],
      "execution_count": 11,
      "outputs": []
    },
    {
      "cell_type": "code",
      "metadata": {
        "colab": {
          "base_uri": "https://localhost:8080/"
        },
        "id": "B4ZYWIwx0-td",
        "outputId": "8f8ce5ee-03c7-4453-e18f-09fe26cc9f79"
      },
      "source": [
        "Text=[]\n",
        "\n",
        "res = requests.get('https://en.wikipedia.org/wiki/Machine_learning')\n",
        "soup = BeautifulSoup(res.text, 'lxml')\n",
        "soup.select('mw-headline')"
      ],
      "execution_count": 12,
      "outputs": [
        {
          "output_type": "execute_result",
          "data": {
            "text/plain": [
              "[]"
            ]
          },
          "metadata": {
            "tags": []
          },
          "execution_count": 12
        }
      ]
    },
    {
      "cell_type": "code",
      "metadata": {
        "colab": {
          "base_uri": "https://localhost:8080/"
        },
        "id": "GEoGaBiC1Dk5",
        "outputId": "4d02ba97-e5b7-4c2c-c7ff-a3fffbb0644e"
      },
      "source": [
        "for i in soup.select('.mw-headline'):\n",
        "    print(i.text)\n",
        "\n",
        "    Text.append(i.text)\n"
      ],
      "execution_count": 13,
      "outputs": [
        {
          "output_type": "stream",
          "text": [
            "Overview\n",
            "History and relationships to other fields\n",
            "Artificial intelligence\n",
            "Data mining\n",
            "Optimization\n",
            "Generalization\n",
            "Statistics\n",
            " Theory\n",
            "Approaches\n",
            "Supervised learning\n",
            "Unsupervised learning\n",
            "Semi-supervised learning\n",
            "Reinforcement learning\n",
            "Dimensionality Reduction\n",
            "Other types\n",
            "Self learning\n",
            "Feature learning\n",
            "Sparse dictionary learning\n",
            "Anomaly detection\n",
            "Robot learning\n",
            "Association rules\n",
            "Models\n",
            "Artificial neural networks\n",
            "Decision trees\n",
            "Support-vector machines\n",
            "Regression analysis\n",
            "Bayesian networks\n",
            "Genetic algorithms\n",
            "Training models\n",
            "Federated learning\n",
            "Applications\n",
            "Limitations\n",
            "Bias\n",
            "Model assessments\n",
            "Ethics\n",
            "Hardware\n",
            "Software\n",
            "Free and open-source software\n",
            "Proprietary software with free and open-source editions\n",
            "Proprietary software\n",
            "Journals\n",
            "Conferences\n",
            "See also\n",
            "References\n",
            "Further reading\n",
            "External links\n"
          ],
          "name": "stdout"
        }
      ]
    },
    {
      "cell_type": "code",
      "metadata": {
        "id": "ClKzuWue1HaO"
      },
      "source": [
        "df=pd.DataFrame({'Text':Text,})\n",
        "df.to_csv('data.csv', index=False, encoding='utf-8')"
      ],
      "execution_count": 14,
      "outputs": []
    }
  ]
}